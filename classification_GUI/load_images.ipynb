{
 "cells": [
  {
   "cell_type": "code",
   "execution_count": 2,
   "metadata": {
    "collapsed": true,
    "pycharm": {
     "name": "#%%\n"
    }
   },
   "outputs": [
    {
     "data": {
      "text/plain": "True"
     },
     "execution_count": 2,
     "metadata": {},
     "output_type": "execute_result"
    }
   ],
   "source": [
    "from omero.gateway import BlitzGateway\n",
    "import ezomero\n",
    "import numpy as np\n",
    "from cellpose import models\n",
    "from stardist.models import StarDist2D\n",
    "from stardist.data import test_image_nuclei_2d\n",
    "from stardist.plot import render_label\n",
    "from csbdeep.utils import normalize\n",
    "import matplotlib.pyplot as plt\n",
    "import matplotlib.pyplot as plt\n",
    "conn = BlitzGateway('hy274', 'omeroreset', host=\"ome2.hpc.sussex.ac.uk\")\n",
    "conn.connect()"
   ]
  },
  {
   "cell_type": "code",
   "execution_count": 3,
   "outputs": [
    {
     "name": "stdout",
     "output_type": "stream",
     "text": [
      "There are 4 registered models for 'StarDist2D':\n",
      "\n",
      "Name                  Alias(es)\n",
      "────                  ─────────\n",
      "'2D_versatile_fluo'   'Versatile (fluorescent nuclei)'\n",
      "'2D_versatile_he'     'Versatile (H&E nuclei)'\n",
      "'2D_paper_dsb2018'    'DSB 2018 (from StarDist 2D paper)'\n",
      "'2D_demo'             None\n",
      "Found model '2D_versatile_fluo' for 'StarDist2D'.\n",
      "Loading network weights from 'weights_best.h5'.\n",
      "Loading thresholds from 'thresholds.json'.\n",
      "Using default values: prob_thresh=0.479071, nms_thresh=0.3.\n"
     ]
    }
   ],
   "source": [
    "# prints a list of available models\n",
    "StarDist2D.from_pretrained()\n",
    "# Define a pretrained model to segment nuclei in fluorescence images (download from pretrained)\n",
    "model = StarDist2D.from_pretrained('2D_versatile_fluo')\n",
    "def stardist_segm(img):\n",
    "  img_labels, img_details = model.predict_instances(normalize(img))\n",
    "  return img_labels"
   ],
   "metadata": {
    "collapsed": false,
    "pycharm": {
     "name": "#%%\n"
    }
   }
  },
  {
   "cell_type": "code",
   "execution_count": 4,
   "outputs": [],
   "source": [
    "\n",
    "def cellpose_segm(img):\n",
    "    \"\"\"perform cellpose segmentation using cell mask \"\"\"\n",
    "    model = models.CellposeModel(gpu=True, model_type='/Users/haoranyue/PycharmProjects/Omero_Screen_2/data/CellPose_models/HeLa_Tub_Hoechst')\n",
    "    c_channels = [[2, 1]]\n",
    "    # combine the 2 channel numpy array for cell segmentation with the nuclei channel\n",
    "    c_masks_array, c_flows, c_styles = model.eval(img, channels=c_channels)\n",
    "    # return cleaned up mask using filter function\n",
    "    return c_masks_array"
   ],
   "metadata": {
    "collapsed": false,
    "pycharm": {
     "name": "#%%\n"
    }
   }
  },
  {
   "cell_type": "code",
   "execution_count": 94,
   "outputs": [],
   "source": [
    "img_id=423318\n",
    "\n",
    "def get_images(conn,img_id):\n",
    "    im_object, im_array = ezomero.get_image(conn, img_id)\n",
    "    # Generate the MIP on the z-axis\n",
    "    mip = np.max(im_array, axis=1)\n",
    "\n",
    "    #Option multichannel/single channel\n",
    "    im_array_list=[]\n",
    "    if mip.shape[-1]==1:\n",
    "        for i in mip.shape[1]:\n",
    "            im_array_list.append(stardist_segm(mip[i:,:,:,]))\n",
    "\n",
    "    else:\n",
    "        for i in mip.shape[1]:\n",
    "            im_array_list.append(cellpose_segm(mip[i:,:,:,]))\n",
    "\n",
    "    return im_array_list"
   ],
   "metadata": {
    "collapsed": false,
    "pycharm": {
     "name": "#%%\n"
    }
   }
  },
  {
   "cell_type": "code",
   "execution_count": 1,
   "outputs": [],
   "source": [
    "list=[]\n",
    "for i in range(45,100):\n",
    "    list.append(i)\n"
   ],
   "metadata": {
    "collapsed": false,
    "pycharm": {
     "name": "#%%\n"
    }
   }
  },
  {
   "cell_type": "code",
   "execution_count": 3,
   "outputs": [
    {
     "data": {
      "text/plain": "[45,\n 46,\n 47,\n 48,\n 49,\n 50,\n 51,\n 52,\n 53,\n 54,\n 55,\n 56,\n 57,\n 58,\n 59,\n 60,\n 61,\n 62,\n 63,\n 64,\n 65,\n 66,\n 67,\n 68,\n 69,\n 70,\n 71,\n 72,\n 73,\n 74,\n 75,\n 76,\n 77,\n 78,\n 79,\n 80,\n 81,\n 82,\n 83,\n 84,\n 85,\n 86,\n 87,\n 88,\n 89,\n 90,\n 91,\n 92,\n 93,\n 94,\n 95,\n 96,\n 97,\n 98,\n 99]"
     },
     "execution_count": 3,
     "metadata": {},
     "output_type": "execute_result"
    }
   ],
   "source": [
    "list\n"
   ],
   "metadata": {
    "collapsed": false,
    "pycharm": {
     "name": "#%%\n"
    }
   }
  }
 ],
 "metadata": {
  "kernelspec": {
   "display_name": "Python 3",
   "language": "python",
   "name": "python3"
  },
  "language_info": {
   "codemirror_mode": {
    "name": "ipython",
    "version": 2
   },
   "file_extension": ".py",
   "mimetype": "text/x-python",
   "name": "python",
   "nbconvert_exporter": "python",
   "pygments_lexer": "ipython2",
   "version": "2.7.6"
  }
 },
 "nbformat": 4,
 "nbformat_minor": 0
}