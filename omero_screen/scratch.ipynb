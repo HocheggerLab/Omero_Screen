{
 "cells": [
  {
   "cell_type": "code",
   "execution_count": 7,
   "outputs": [
    {
     "data": {
      "text/plain": "True"
     },
     "execution_count": 7,
     "metadata": {},
     "output_type": "execute_result"
    }
   ],
   "source": [
    "from omero.gateway import BlitzGateway\n",
    "conn = BlitzGateway('helfrid', 'Omero_21', host=\"ome2.hpc.sussex.ac.uk\")\n",
    "conn.connect()"
   ],
   "metadata": {
    "collapsed": false,
    "pycharm": {
     "name": "#%%\n"
    }
   }
  },
  {
   "cell_type": "code",
   "execution_count": 8,
   "outputs": [],
   "source": [
    "plate = conn.getObject(\"Plate\", 1054)"
   ],
   "metadata": {
    "collapsed": false,
    "pycharm": {
     "name": "#%%\n"
    }
   }
  },
  {
   "cell_type": "code",
   "execution_count": 10,
   "outputs": [
    {
     "data": {
      "text/plain": "['A', 'B', 'C', 'D', 'E', 'F', 'G', 'H']"
     },
     "execution_count": 10,
     "metadata": {},
     "output_type": "execute_result"
    }
   ],
   "source": [
    "plate.getRowLabels()"
   ],
   "metadata": {
    "collapsed": false,
    "pycharm": {
     "name": "#%%\n"
    }
   }
  },
  {
   "cell_type": "code",
   "execution_count": 5,
   "outputs": [
    {
     "name": "stderr",
     "output_type": "stream",
     "text": [
      "WARNING:omero.gateway:ConnectionLostException on <class 'omero.gateway.OmeroGatewaySafeCallWrapper'> to <2a1c18b4-99fa-46db-8288-ca12f13ffecbomero.api.IQuery> findAllByQuery(('select l from PlateAnnotationLink as l join fetch l.details.owner join fetch l.details.creationEvent join fetch l.child as a join fetch a.details.owner left outer join fetch a.file join fetch a.details.creationEvent where l.parent.id=1054', None, <ServiceOptsDict: {'omero.client.uuid': '2a1c18b4-99fa-46db-8288-ca12f13ffecb', 'omero.session.uuid': 'eb4e399b-691b-4e3b-9ac9-bc4da1bbf457', 'omero.group': '54'}>), {})\n",
      "Traceback (most recent call last):\n",
      "  File \"/Users/hh65/miniforge3/envs/cellpose-py10/lib/python3.10/site-packages/omero/gateway/__init__.py\", line 4856, in __call__\n",
      "    return self.f(*args, **kwargs)\n",
      "  File \"/Users/hh65/miniforge3/envs/cellpose-py10/lib/python3.10/site-packages/omero_api_IQuery_ice.py\", line 710, in findAllByQuery\n",
      "    return _M_omero.api.IQuery._op_findAllByQuery.invoke(self, ((query, params), _ctx))\n",
      "Ice.ConnectionLostException: Ice.ConnectionLostException:\n",
      "recv() returned zero\n"
     ]
    },
    {
     "ename": "ConnectionLostException",
     "evalue": "Ice.ConnectionLostException:\nrecv() returned zero",
     "output_type": "error",
     "traceback": [
      "\u001B[0;31m---------------------------------------------------------------------------\u001B[0m",
      "\u001B[0;31mConnectionLostException\u001B[0m                   Traceback (most recent call last)",
      "Cell \u001B[0;32mIn [5], line 2\u001B[0m\n\u001B[1;32m      1\u001B[0m NS \u001B[38;5;241m=\u001B[39m \u001B[38;5;124m'\u001B[39m\u001B[38;5;124mopenmicroscopy.org/omero/client/mapAnnotation\u001B[39m\u001B[38;5;124m'\u001B[39m\n\u001B[0;32m----> 2\u001B[0m ann \u001B[38;5;241m=\u001B[39m \u001B[43mplate\u001B[49m\u001B[38;5;241;43m.\u001B[39;49m\u001B[43mgetAnnotation\u001B[49m\u001B[43m(\u001B[49m\u001B[43mNS\u001B[49m\u001B[43m)\u001B[49m\n",
      "File \u001B[0;32m~/miniforge3/envs/cellpose-py10/lib/python3.10/site-packages/omero/gateway/__init__.py:1025\u001B[0m, in \u001B[0;36mBlitzObjectWrapper.getAnnotation\u001B[0;34m(self, ns)\u001B[0m\n\u001B[1;32m   1017\u001B[0m \u001B[38;5;28;01mdef\u001B[39;00m \u001B[38;5;21mgetAnnotation\u001B[39m(\u001B[38;5;28mself\u001B[39m, ns\u001B[38;5;241m=\u001B[39m\u001B[38;5;28;01mNone\u001B[39;00m):\n\u001B[1;32m   1018\u001B[0m     \u001B[38;5;124;03m\"\"\"\u001B[39;00m\n\u001B[1;32m   1019\u001B[0m \u001B[38;5;124;03m    Gets the first annotation on the object, filtered by ns if specified\u001B[39;00m\n\u001B[1;32m   1020\u001B[0m \n\u001B[0;32m   (...)\u001B[0m\n\u001B[1;32m   1023\u001B[0m \u001B[38;5;124;03m    :return:        :class:`AnnotationWrapper` or None\u001B[39;00m\n\u001B[1;32m   1024\u001B[0m \u001B[38;5;124;03m    \"\"\"\u001B[39;00m\n\u001B[0;32m-> 1025\u001B[0m     rv \u001B[38;5;241m=\u001B[39m \u001B[38;5;28;43mself\u001B[39;49m\u001B[38;5;241;43m.\u001B[39;49m\u001B[43m_getAnnotationLinks\u001B[49m\u001B[43m(\u001B[49m\u001B[43mns\u001B[49m\u001B[43m)\u001B[49m\n\u001B[1;32m   1026\u001B[0m     \u001B[38;5;28;01mif\u001B[39;00m \u001B[38;5;28mlen\u001B[39m(rv):\n\u001B[1;32m   1027\u001B[0m         \u001B[38;5;28;01mreturn\u001B[39;00m AnnotationWrapper\u001B[38;5;241m.\u001B[39m_wrap(\u001B[38;5;28mself\u001B[39m\u001B[38;5;241m.\u001B[39m_conn, rv[\u001B[38;5;241m0\u001B[39m]\u001B[38;5;241m.\u001B[39mchild, link\u001B[38;5;241m=\u001B[39mrv[\u001B[38;5;241m0\u001B[39m])\n",
      "File \u001B[0;32m~/miniforge3/envs/cellpose-py10/lib/python3.10/site-packages/omero/gateway/__init__.py:965\u001B[0m, in \u001B[0;36mBlitzObjectWrapper._getAnnotationLinks\u001B[0;34m(self, ns)\u001B[0m\n\u001B[1;32m    955\u001B[0m \u001B[38;5;28;01mdef\u001B[39;00m \u001B[38;5;21m_getAnnotationLinks\u001B[39m(\u001B[38;5;28mself\u001B[39m, ns\u001B[38;5;241m=\u001B[39m\u001B[38;5;28;01mNone\u001B[39;00m):\n\u001B[1;32m    956\u001B[0m     \u001B[38;5;124;03m\"\"\"\u001B[39;00m\n\u001B[1;32m    957\u001B[0m \u001B[38;5;124;03m    Checks links are loaded and returns a list of Annotation Links\u001B[39;00m\n\u001B[1;32m    958\u001B[0m \u001B[38;5;124;03m    filtered by namespace if specified\u001B[39;00m\n\u001B[0;32m   (...)\u001B[0m\n\u001B[1;32m    963\u001B[0m \u001B[38;5;124;03m    :rtype:     List of Annotation Links\u001B[39;00m\n\u001B[1;32m    964\u001B[0m \u001B[38;5;124;03m    \"\"\"\u001B[39;00m\n\u001B[0;32m--> 965\u001B[0m     \u001B[38;5;28;43mself\u001B[39;49m\u001B[38;5;241;43m.\u001B[39;49m\u001B[43m_loadAnnotationLinks\u001B[49m\u001B[43m(\u001B[49m\u001B[43m)\u001B[49m\n\u001B[1;32m    966\u001B[0m     rv \u001B[38;5;241m=\u001B[39m \u001B[38;5;28mself\u001B[39m\u001B[38;5;241m.\u001B[39mcopyAnnotationLinks()\n\u001B[1;32m    967\u001B[0m     \u001B[38;5;28;01mif\u001B[39;00m ns \u001B[38;5;129;01mis\u001B[39;00m \u001B[38;5;129;01mnot\u001B[39;00m \u001B[38;5;28;01mNone\u001B[39;00m:\n",
      "File \u001B[0;32m~/miniforge3/envs/cellpose-py10/lib/python3.10/site-packages/omero/gateway/__init__.py:949\u001B[0m, in \u001B[0;36mBlitzObjectWrapper._loadAnnotationLinks\u001B[0;34m(self)\u001B[0m\n\u001B[1;32m    941\u001B[0m \u001B[38;5;28;01mif\u001B[39;00m \u001B[38;5;129;01mnot\u001B[39;00m \u001B[38;5;28mself\u001B[39m\u001B[38;5;241m.\u001B[39m_obj\u001B[38;5;241m.\u001B[39misAnnotationLinksLoaded():\n\u001B[1;32m    942\u001B[0m     query \u001B[38;5;241m=\u001B[39m (\u001B[38;5;124m\"\u001B[39m\u001B[38;5;124mselect l from \u001B[39m\u001B[38;5;132;01m%s\u001B[39;00m\u001B[38;5;124mAnnotationLink as l join \u001B[39m\u001B[38;5;124m\"\u001B[39m\n\u001B[1;32m    943\u001B[0m              \u001B[38;5;124m\"\u001B[39m\u001B[38;5;124mfetch l.details.owner join \u001B[39m\u001B[38;5;124m\"\u001B[39m\n\u001B[1;32m    944\u001B[0m              \u001B[38;5;124m\"\u001B[39m\u001B[38;5;124mfetch l.details.creationEvent \u001B[39m\u001B[38;5;124m\"\u001B[39m\n\u001B[0;32m   (...)\u001B[0m\n\u001B[1;32m    947\u001B[0m              \u001B[38;5;124m\"\u001B[39m\u001B[38;5;124mjoin fetch a.details.creationEvent where l.parent.id=\u001B[39m\u001B[38;5;132;01m%i\u001B[39;00m\u001B[38;5;124m\"\u001B[39m\n\u001B[1;32m    948\u001B[0m              \u001B[38;5;241m%\u001B[39m (\u001B[38;5;28mself\u001B[39m\u001B[38;5;241m.\u001B[39mOMERO_CLASS, \u001B[38;5;28mself\u001B[39m\u001B[38;5;241m.\u001B[39m_oid))\n\u001B[0;32m--> 949\u001B[0m     links \u001B[38;5;241m=\u001B[39m \u001B[38;5;28;43mself\u001B[39;49m\u001B[38;5;241;43m.\u001B[39;49m\u001B[43m_conn\u001B[49m\u001B[38;5;241;43m.\u001B[39;49m\u001B[43mgetQueryService\u001B[49m\u001B[43m(\u001B[49m\u001B[43m)\u001B[49m\u001B[38;5;241;43m.\u001B[39;49m\u001B[43mfindAllByQuery\u001B[49m\u001B[43m(\u001B[49m\n\u001B[1;32m    950\u001B[0m \u001B[43m        \u001B[49m\u001B[43mquery\u001B[49m\u001B[43m,\u001B[49m\u001B[43m \u001B[49m\u001B[38;5;28;43;01mNone\u001B[39;49;00m\u001B[43m,\u001B[49m\u001B[43m \u001B[49m\u001B[43mctx\u001B[49m\u001B[43m)\u001B[49m\n\u001B[1;32m    951\u001B[0m     \u001B[38;5;28mself\u001B[39m\u001B[38;5;241m.\u001B[39m_obj\u001B[38;5;241m.\u001B[39m_annotationLinksLoaded \u001B[38;5;241m=\u001B[39m \u001B[38;5;28;01mTrue\u001B[39;00m\n\u001B[1;32m    952\u001B[0m     \u001B[38;5;28mself\u001B[39m\u001B[38;5;241m.\u001B[39m_obj\u001B[38;5;241m.\u001B[39m_annotationLinksSeq \u001B[38;5;241m=\u001B[39m links\n",
      "File \u001B[0;32m~/miniforge3/envs/cellpose-py10/lib/python3.10/site-packages/omero/gateway/__init__.py:4859\u001B[0m, in \u001B[0;36mOmeroGatewaySafeCallWrapper.__call__\u001B[0;34m(self, *args, **kwargs)\u001B[0m\n\u001B[1;32m   4857\u001B[0m \u001B[38;5;28;01mexcept\u001B[39;00m \u001B[38;5;167;01mException\u001B[39;00m \u001B[38;5;28;01mas\u001B[39;00m e:\n\u001B[1;32m   4858\u001B[0m     \u001B[38;5;28mself\u001B[39m\u001B[38;5;241m.\u001B[39mdebug(e\u001B[38;5;241m.\u001B[39m\u001B[38;5;18m__class__\u001B[39m\u001B[38;5;241m.\u001B[39m\u001B[38;5;18m__name__\u001B[39m, args, kwargs)\n\u001B[0;32m-> 4859\u001B[0m     \u001B[38;5;28;01mreturn\u001B[39;00m \u001B[38;5;28;43mself\u001B[39;49m\u001B[38;5;241;43m.\u001B[39;49m\u001B[43mhandle_exception\u001B[49m\u001B[43m(\u001B[49m\u001B[43me\u001B[49m\u001B[43m,\u001B[49m\u001B[43m \u001B[49m\u001B[38;5;241;43m*\u001B[39;49m\u001B[43margs\u001B[49m\u001B[43m,\u001B[49m\u001B[43m \u001B[49m\u001B[38;5;241;43m*\u001B[39;49m\u001B[38;5;241;43m*\u001B[39;49m\u001B[43mkwargs\u001B[49m\u001B[43m)\u001B[49m\n",
      "File \u001B[0;32m~/miniforge3/envs/cellpose-py10/lib/python3.10/site-packages/omero/gateway/__init__.py:4856\u001B[0m, in \u001B[0;36mOmeroGatewaySafeCallWrapper.__call__\u001B[0;34m(self, *args, **kwargs)\u001B[0m\n\u001B[1;32m   4854\u001B[0m \u001B[38;5;28;01mdef\u001B[39;00m \u001B[38;5;21m__call__\u001B[39m(\u001B[38;5;28mself\u001B[39m, \u001B[38;5;241m*\u001B[39margs, \u001B[38;5;241m*\u001B[39m\u001B[38;5;241m*\u001B[39mkwargs):\n\u001B[1;32m   4855\u001B[0m     \u001B[38;5;28;01mtry\u001B[39;00m:\n\u001B[0;32m-> 4856\u001B[0m         \u001B[38;5;28;01mreturn\u001B[39;00m \u001B[38;5;28;43mself\u001B[39;49m\u001B[38;5;241;43m.\u001B[39;49m\u001B[43mf\u001B[49m\u001B[43m(\u001B[49m\u001B[38;5;241;43m*\u001B[39;49m\u001B[43margs\u001B[49m\u001B[43m,\u001B[49m\u001B[43m \u001B[49m\u001B[38;5;241;43m*\u001B[39;49m\u001B[38;5;241;43m*\u001B[39;49m\u001B[43mkwargs\u001B[49m\u001B[43m)\u001B[49m\n\u001B[1;32m   4857\u001B[0m     \u001B[38;5;28;01mexcept\u001B[39;00m \u001B[38;5;167;01mException\u001B[39;00m \u001B[38;5;28;01mas\u001B[39;00m e:\n\u001B[1;32m   4858\u001B[0m         \u001B[38;5;28mself\u001B[39m\u001B[38;5;241m.\u001B[39mdebug(e\u001B[38;5;241m.\u001B[39m\u001B[38;5;18m__class__\u001B[39m\u001B[38;5;241m.\u001B[39m\u001B[38;5;18m__name__\u001B[39m, args, kwargs)\n",
      "File \u001B[0;32m~/miniforge3/envs/cellpose-py10/lib/python3.10/site-packages/omero_api_IQuery_ice.py:710\u001B[0m, in \u001B[0;36mIQueryPrx.findAllByQuery\u001B[0;34m(self, query, params, _ctx)\u001B[0m\n\u001B[1;32m    709\u001B[0m \u001B[38;5;28;01mdef\u001B[39;00m \u001B[38;5;21mfindAllByQuery\u001B[39m(\u001B[38;5;28mself\u001B[39m, query, params, _ctx\u001B[38;5;241m=\u001B[39m\u001B[38;5;28;01mNone\u001B[39;00m):\n\u001B[0;32m--> 710\u001B[0m     \u001B[38;5;28;01mreturn\u001B[39;00m \u001B[43m_M_omero\u001B[49m\u001B[38;5;241;43m.\u001B[39;49m\u001B[43mapi\u001B[49m\u001B[38;5;241;43m.\u001B[39;49m\u001B[43mIQuery\u001B[49m\u001B[38;5;241;43m.\u001B[39;49m\u001B[43m_op_findAllByQuery\u001B[49m\u001B[38;5;241;43m.\u001B[39;49m\u001B[43minvoke\u001B[49m\u001B[43m(\u001B[49m\u001B[38;5;28;43mself\u001B[39;49m\u001B[43m,\u001B[49m\u001B[43m \u001B[49m\u001B[43m(\u001B[49m\u001B[43m(\u001B[49m\u001B[43mquery\u001B[49m\u001B[43m,\u001B[49m\u001B[43m \u001B[49m\u001B[43mparams\u001B[49m\u001B[43m)\u001B[49m\u001B[43m,\u001B[49m\u001B[43m \u001B[49m\u001B[43m_ctx\u001B[49m\u001B[43m)\u001B[49m\u001B[43m)\u001B[49m\n",
      "\u001B[0;31mConnectionLostException\u001B[0m: Ice.ConnectionLostException:\nrecv() returned zero"
     ]
    }
   ],
   "source": [
    "NS = 'openmicroscopy.org/omero/client/mapAnnotation'\n",
    "ann = plate.getAnnotation(NS)"
   ],
   "metadata": {
    "collapsed": false,
    "pycharm": {
     "name": "#%%\n"
    }
   }
  },
  {
   "cell_type": "code",
   "execution_count": 6,
   "outputs": [
    {
     "ename": "NameError",
     "evalue": "name 'ann' is not defined",
     "output_type": "error",
     "traceback": [
      "\u001B[0;31m---------------------------------------------------------------------------\u001B[0m",
      "\u001B[0;31mNameError\u001B[0m                                 Traceback (most recent call last)",
      "Cell \u001B[0;32mIn [6], line 1\u001B[0m\n\u001B[0;32m----> 1\u001B[0m \u001B[38;5;28mdict\u001B[39m(\u001B[43mann\u001B[49m\u001B[38;5;241m.\u001B[39mgetValue())\n",
      "\u001B[0;31mNameError\u001B[0m: name 'ann' is not defined"
     ]
    }
   ],
   "source": [
    "dict(ann.getValue())"
   ],
   "metadata": {
    "collapsed": false,
    "pycharm": {
     "name": "#%%\n"
    }
   }
  },
  {
   "cell_type": "code",
   "execution_count": 45,
   "outputs": [
    {
     "name": "stderr",
     "output_type": "stream",
     "text": [
      "WARNING:omero.gateway:ConnectionLostException on <class 'omero.gateway.OmeroGatewaySafeCallWrapper'> to <751a1b4b-6be9-4294-99ea-1f8d5478509domero.api.IQuery> findByQuery(('select obj from Well obj join fetch obj.details.owner as owner join fetch obj.details.creationEvent where obj.id in (:ids)', object #0 (::omero::sys::Parameters)\n",
      "{\n",
      "    map = \n",
      "    {\n",
      "        key = ids\n",
      "        value = object #1 (::omero::RList)\n",
      "        {\n",
      "            _val = \n",
      "            {\n",
      "                [0] = object #2 (::omero::RLong)\n",
      "                {\n",
      "                    _val = 11346\n",
      "                }\n",
      "            }\n",
      "        }\n",
      "    }\n",
      "    theFilter = <nil>\n",
      "    theOptions = <nil>\n",
      "}, <ServiceOptsDict: {'omero.client.uuid': '751a1b4b-6be9-4294-99ea-1f8d5478509d', 'omero.session.uuid': '46e8b1d5-514a-4afb-b1c7-115b441cd9b1'}>), {})\n",
      "Traceback (most recent call last):\n",
      "  File \"/Users/hh65/miniforge3/envs/cellpose-py10/lib/python3.10/site-packages/omero/gateway/__init__.py\", line 4856, in __call__\n",
      "    return self.f(*args, **kwargs)\n",
      "  File \"/Users/hh65/miniforge3/envs/cellpose-py10/lib/python3.10/site-packages/omero_api_IQuery_ice.py\", line 651, in findByQuery\n",
      "    return _M_omero.api.IQuery._op_findByQuery.invoke(self, ((query, params), _ctx))\n",
      "Ice.ConnectionLostException: Ice.ConnectionLostException:\n",
      "recv() returned zero\n"
     ]
    },
    {
     "ename": "ConnectionLostException",
     "evalue": "Ice.ConnectionLostException:\nrecv() returned zero",
     "output_type": "error",
     "traceback": [
      "\u001B[0;31m---------------------------------------------------------------------------\u001B[0m",
      "\u001B[0;31mConnectionLostException\u001B[0m                   Traceback (most recent call last)",
      "Cell \u001B[0;32mIn [45], line 1\u001B[0m\n\u001B[0;32m----> 1\u001B[0m well \u001B[38;5;241m=\u001B[39m \u001B[43mconn\u001B[49m\u001B[38;5;241;43m.\u001B[39;49m\u001B[43mgetObject\u001B[49m\u001B[43m(\u001B[49m\u001B[38;5;124;43m\"\u001B[39;49m\u001B[38;5;124;43mWell\u001B[39;49m\u001B[38;5;124;43m\"\u001B[39;49m\u001B[43m,\u001B[49m\u001B[43m \u001B[49m\u001B[38;5;241;43m11346\u001B[39;49m\u001B[43m)\u001B[49m\n",
      "File \u001B[0;32m~/miniforge3/envs/cellpose-py10/lib/python3.10/site-packages/omero/gateway/__init__.py:3271\u001B[0m, in \u001B[0;36m_BlitzGateway.getObject\u001B[0;34m(self, obj_type, oid, params, attributes, opts)\u001B[0m\n\u001B[1;32m   3268\u001B[0m oids \u001B[38;5;241m=\u001B[39m (oid \u001B[38;5;129;01mis\u001B[39;00m \u001B[38;5;129;01mnot\u001B[39;00m \u001B[38;5;28;01mNone\u001B[39;00m) \u001B[38;5;129;01mand\u001B[39;00m [oid] \u001B[38;5;129;01mor\u001B[39;00m \u001B[38;5;28;01mNone\u001B[39;00m\n\u001B[1;32m   3269\u001B[0m query, params, wrapper \u001B[38;5;241m=\u001B[39m \u001B[38;5;28mself\u001B[39m\u001B[38;5;241m.\u001B[39mbuildQuery(\n\u001B[1;32m   3270\u001B[0m     obj_type, oids, params, attributes, opts)\n\u001B[0;32m-> 3271\u001B[0m result \u001B[38;5;241m=\u001B[39m \u001B[38;5;28;43mself\u001B[39;49m\u001B[38;5;241;43m.\u001B[39;49m\u001B[43mgetQueryService\u001B[49m\u001B[43m(\u001B[49m\u001B[43m)\u001B[49m\u001B[38;5;241;43m.\u001B[39;49m\u001B[43mfindByQuery\u001B[49m\u001B[43m(\u001B[49m\n\u001B[1;32m   3272\u001B[0m \u001B[43m    \u001B[49m\u001B[43mquery\u001B[49m\u001B[43m,\u001B[49m\u001B[43m \u001B[49m\u001B[43mparams\u001B[49m\u001B[43m,\u001B[49m\u001B[43m \u001B[49m\u001B[38;5;28;43mself\u001B[39;49m\u001B[38;5;241;43m.\u001B[39;49m\u001B[43mSERVICE_OPTS\u001B[49m\u001B[43m)\u001B[49m\n\u001B[1;32m   3273\u001B[0m \u001B[38;5;28;01mif\u001B[39;00m result \u001B[38;5;129;01mis\u001B[39;00m \u001B[38;5;129;01mnot\u001B[39;00m \u001B[38;5;28;01mNone\u001B[39;00m:\n\u001B[1;32m   3274\u001B[0m     \u001B[38;5;28;01mreturn\u001B[39;00m wrapper(\u001B[38;5;28mself\u001B[39m, result)\n",
      "File \u001B[0;32m~/miniforge3/envs/cellpose-py10/lib/python3.10/site-packages/omero/gateway/__init__.py:4859\u001B[0m, in \u001B[0;36mOmeroGatewaySafeCallWrapper.__call__\u001B[0;34m(self, *args, **kwargs)\u001B[0m\n\u001B[1;32m   4857\u001B[0m \u001B[38;5;28;01mexcept\u001B[39;00m \u001B[38;5;167;01mException\u001B[39;00m \u001B[38;5;28;01mas\u001B[39;00m e:\n\u001B[1;32m   4858\u001B[0m     \u001B[38;5;28mself\u001B[39m\u001B[38;5;241m.\u001B[39mdebug(e\u001B[38;5;241m.\u001B[39m\u001B[38;5;18m__class__\u001B[39m\u001B[38;5;241m.\u001B[39m\u001B[38;5;18m__name__\u001B[39m, args, kwargs)\n\u001B[0;32m-> 4859\u001B[0m     \u001B[38;5;28;01mreturn\u001B[39;00m \u001B[38;5;28;43mself\u001B[39;49m\u001B[38;5;241;43m.\u001B[39;49m\u001B[43mhandle_exception\u001B[49m\u001B[43m(\u001B[49m\u001B[43me\u001B[49m\u001B[43m,\u001B[49m\u001B[43m \u001B[49m\u001B[38;5;241;43m*\u001B[39;49m\u001B[43margs\u001B[49m\u001B[43m,\u001B[49m\u001B[43m \u001B[49m\u001B[38;5;241;43m*\u001B[39;49m\u001B[38;5;241;43m*\u001B[39;49m\u001B[43mkwargs\u001B[49m\u001B[43m)\u001B[49m\n",
      "File \u001B[0;32m~/miniforge3/envs/cellpose-py10/lib/python3.10/site-packages/omero/gateway/__init__.py:4856\u001B[0m, in \u001B[0;36mOmeroGatewaySafeCallWrapper.__call__\u001B[0;34m(self, *args, **kwargs)\u001B[0m\n\u001B[1;32m   4854\u001B[0m \u001B[38;5;28;01mdef\u001B[39;00m \u001B[38;5;21m__call__\u001B[39m(\u001B[38;5;28mself\u001B[39m, \u001B[38;5;241m*\u001B[39margs, \u001B[38;5;241m*\u001B[39m\u001B[38;5;241m*\u001B[39mkwargs):\n\u001B[1;32m   4855\u001B[0m     \u001B[38;5;28;01mtry\u001B[39;00m:\n\u001B[0;32m-> 4856\u001B[0m         \u001B[38;5;28;01mreturn\u001B[39;00m \u001B[38;5;28;43mself\u001B[39;49m\u001B[38;5;241;43m.\u001B[39;49m\u001B[43mf\u001B[49m\u001B[43m(\u001B[49m\u001B[38;5;241;43m*\u001B[39;49m\u001B[43margs\u001B[49m\u001B[43m,\u001B[49m\u001B[43m \u001B[49m\u001B[38;5;241;43m*\u001B[39;49m\u001B[38;5;241;43m*\u001B[39;49m\u001B[43mkwargs\u001B[49m\u001B[43m)\u001B[49m\n\u001B[1;32m   4857\u001B[0m     \u001B[38;5;28;01mexcept\u001B[39;00m \u001B[38;5;167;01mException\u001B[39;00m \u001B[38;5;28;01mas\u001B[39;00m e:\n\u001B[1;32m   4858\u001B[0m         \u001B[38;5;28mself\u001B[39m\u001B[38;5;241m.\u001B[39mdebug(e\u001B[38;5;241m.\u001B[39m\u001B[38;5;18m__class__\u001B[39m\u001B[38;5;241m.\u001B[39m\u001B[38;5;18m__name__\u001B[39m, args, kwargs)\n",
      "File \u001B[0;32m~/miniforge3/envs/cellpose-py10/lib/python3.10/site-packages/omero_api_IQuery_ice.py:651\u001B[0m, in \u001B[0;36mIQueryPrx.findByQuery\u001B[0;34m(self, query, params, _ctx)\u001B[0m\n\u001B[1;32m    650\u001B[0m \u001B[38;5;28;01mdef\u001B[39;00m \u001B[38;5;21mfindByQuery\u001B[39m(\u001B[38;5;28mself\u001B[39m, query, params, _ctx\u001B[38;5;241m=\u001B[39m\u001B[38;5;28;01mNone\u001B[39;00m):\n\u001B[0;32m--> 651\u001B[0m     \u001B[38;5;28;01mreturn\u001B[39;00m \u001B[43m_M_omero\u001B[49m\u001B[38;5;241;43m.\u001B[39;49m\u001B[43mapi\u001B[49m\u001B[38;5;241;43m.\u001B[39;49m\u001B[43mIQuery\u001B[49m\u001B[38;5;241;43m.\u001B[39;49m\u001B[43m_op_findByQuery\u001B[49m\u001B[38;5;241;43m.\u001B[39;49m\u001B[43minvoke\u001B[49m\u001B[43m(\u001B[49m\u001B[38;5;28;43mself\u001B[39;49m\u001B[43m,\u001B[49m\u001B[43m \u001B[49m\u001B[43m(\u001B[49m\u001B[43m(\u001B[49m\u001B[43mquery\u001B[49m\u001B[43m,\u001B[49m\u001B[43m \u001B[49m\u001B[43mparams\u001B[49m\u001B[43m)\u001B[49m\u001B[43m,\u001B[49m\u001B[43m \u001B[49m\u001B[43m_ctx\u001B[49m\u001B[43m)\u001B[49m\u001B[43m)\u001B[49m\n",
      "\u001B[0;31mConnectionLostException\u001B[0m: Ice.ConnectionLostException:\nrecv() returned zero"
     ]
    }
   ],
   "source": [
    "well = conn.getObject(\"Well\", 11346)"
   ],
   "metadata": {
    "collapsed": false,
    "pycharm": {
     "name": "#%%\n"
    }
   }
  },
  {
   "cell_type": "code",
   "execution_count": 6,
   "outputs": [
    {
     "data": {
      "text/plain": "{'Cell_Line': 'MM231', 'Condition': 'NT'}"
     },
     "execution_count": 6,
     "metadata": {},
     "output_type": "execute_result"
    }
   ],
   "source": [
    "ann = well.getAnnotation(NS)\n",
    "dict(ann.getValue())"
   ],
   "metadata": {
    "collapsed": false,
    "pycharm": {
     "name": "#%%\n"
    }
   }
  },
  {
   "cell_type": "code",
   "execution_count": 26,
   "outputs": [],
   "source": [
    "import pathlib\n",
    "from cellpose import models\n",
    "model = models.CellposeModel(gpu=False, model_type=str(pathlib.Path.cwd() / 'dataNuclei_Hoechst'))"
   ],
   "metadata": {
    "collapsed": false,
    "pycharm": {
     "name": "#%%\n"
    }
   }
  },
  {
   "cell_type": "code",
   "execution_count": 16,
   "outputs": [
    {
     "data": {
      "text/plain": "['../data/CellPose_models/U2OS_Tub_Hoechst',\n '../data/CellPose_models/HeLa_Tub_Hoechst',\n '../data/CellPose_models/RPE-1_Tub_Hoechst_segmentation.pdf',\n '../data/CellPose_models/Nuclei_Hoechst_segmentation.pdf',\n '../data/CellPose_models/RPE-1_Tub_Hoechst',\n '../data/CellPose_models/Nuclei_Hoechst']"
     },
     "execution_count": 16,
     "metadata": {},
     "output_type": "execute_result"
    }
   ],
   "source": [
    "import glob\n",
    "glob.glob('../data/CellPose_models/Nuclei_Hoechst')"
   ],
   "metadata": {
    "collapsed": false,
    "pycharm": {
     "name": "#%%\n"
    }
   }
  },
  {
   "cell_type": "code",
   "execution_count": 24,
   "outputs": [
    {
     "data": {
      "text/plain": "PosixPath('/Users/hh65/Documents/PyCharmNew/Omero_Screen/omero_screen/Nuclei_Hoechst')"
     },
     "execution_count": 24,
     "metadata": {},
     "output_type": "execute_result"
    }
   ],
   "source": [
    "import pathlib\n",
    "str(pathlib.Path.cwd() / 'Nuclei_Hoechst')\n"
   ],
   "metadata": {
    "collapsed": false,
    "pycharm": {
     "name": "#%%\n"
    }
   }
  },
  {
   "cell_type": "code",
   "execution_count": 39,
   "outputs": [
    {
     "data": {
      "text/plain": "PosixPath('/Users/hh65/Documents/PyCharmNew/Omero_Screen')"
     },
     "execution_count": 39,
     "metadata": {},
     "output_type": "execute_result"
    }
   ],
   "source": [
    "path = pathlib.Path.cwd().parent\n",
    "path"
   ],
   "metadata": {
    "collapsed": false,
    "pycharm": {
     "name": "#%%\n"
    }
   }
  },
  {
   "cell_type": "code",
   "execution_count": 40,
   "outputs": [],
   "source": [
    "model_dict = {\n",
    "    'nuclei': str(path / 'data/CellPose_models/Nuclei_Hoechst'),\n",
    "    'RPE-1': str(path / 'data/CellPose_models/RPE-1_Tub_Hoechst'),\n",
    "    'HeLa': str(path / 'data/CellPose_models/HeLa_Tub_Hoechst'),\n",
    "    'U2OS': str(path / 'data/CellPose_models/U2OS_Tub_Hoechst'),\n",
    "    'MM231': str(path / 'data/CellPose_models/U2OS_Tub_Hoechst'),\n",
    "}"
   ],
   "metadata": {
    "collapsed": false,
    "pycharm": {
     "name": "#%%\n"
    }
   }
  },
  {
   "cell_type": "code",
   "execution_count": 42,
   "outputs": [],
   "source": [
    "model = models.CellposeModel(gpu=False, model_type=model_dict['RPE-1'])"
   ],
   "metadata": {
    "collapsed": false,
    "pycharm": {
     "name": "#%%\n"
    }
   }
  },
  {
   "cell_type": "code",
   "execution_count": 43,
   "outputs": [
    {
     "data": {
      "text/plain": "<bound method BlitzObjectWrapper.getChildLinks of <_PlateWrapper id=1054>>"
     },
     "execution_count": 43,
     "metadata": {},
     "output_type": "execute_result"
    }
   ],
   "source": [
    "plate.getChildLinks"
   ],
   "metadata": {
    "collapsed": false,
    "pycharm": {
     "name": "#%%\n"
    }
   }
  },
  {
   "cell_type": "code",
   "execution_count": 55,
   "outputs": [
    {
     "data": {
      "text/plain": "96"
     },
     "execution_count": 55,
     "metadata": {},
     "output_type": "execute_result"
    }
   ],
   "source": [
    "len(list(plate.listChildren()))"
   ],
   "metadata": {
    "collapsed": false,
    "pycharm": {
     "name": "#%%\n"
    }
   }
  },
  {
   "cell_type": "code",
   "execution_count": null,
   "outputs": [],
   "source": [],
   "metadata": {
    "collapsed": false,
    "pycharm": {
     "name": "#%%\n"
    }
   }
  }
 ],
 "metadata": {
  "kernelspec": {
   "display_name": "Python 3",
   "language": "python",
   "name": "python3"
  },
  "language_info": {
   "codemirror_mode": {
    "name": "ipython",
    "version": 2
   },
   "file_extension": ".py",
   "mimetype": "text/x-python",
   "name": "python",
   "nbconvert_exporter": "python",
   "pygments_lexer": "ipython2",
   "version": "2.7.6"
  }
 },
 "nbformat": 4,
 "nbformat_minor": 0
}